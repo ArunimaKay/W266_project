{
 "cells": [
  {
   "cell_type": "code",
   "execution_count": 29,
   "metadata": {
    "collapsed": false
   },
   "outputs": [],
   "source": [
    "import pandas as pd\n",
    "import numpy as np\n",
    "import gzip\n",
    "import io\n",
    "import seaborn as sns\n",
    "%matplotlib inline\n",
    "import matplotlib.pyplot as plt\n",
    "import matplotlib as mpl\n",
    "import json\n",
    "import nltk\n",
    "import nltk.data\n",
    "\n",
    "from nltk import sentiment\n",
    "from nltk import word_tokenize\n",
    "import time\n",
    "from sklearn.cross_validation import train_test_split\n",
    "from sklearn.feature_extraction.text import CountVectorizer\n",
    "from sklearn.feature_extraction.text import TfidfVectorizer\n",
    "from sklearn.metrics import classification_report\n",
    "from sklearn import svm\n",
    "from sklearn import metrics\n",
    "from w266_common import utils, vocabulary"
   ]
  },
  {
   "cell_type": "code",
   "execution_count": 4,
   "metadata": {
    "collapsed": false
   },
   "outputs": [],
   "source": [
    "\n",
    "#Required only once to save data into a pickle file. \n",
    "\n",
    "def parse(path):\n",
    "  g = gzip.open(path, 'r')\n",
    "  for l in g:\n",
    "    yield eval(l)\n",
    "    \n",
    "    \n",
    "def getDF(path):\n",
    "  i = 0\n",
    "  df = {}\n",
    "  for d in parse(path):\n",
    "    df[i] = d\n",
    "    i += 1\n",
    "  return pd.DataFrame.from_dict(df, orient='index')\n",
    "\n",
    "home_df = getDF('reviews_Home_and_Kitchen.json.gz')    "
   ]
  },
  {
   "cell_type": "code",
   "execution_count": 2,
   "metadata": {
    "collapsed": false
   },
   "outputs": [
    {
     "name": "stdout",
     "output_type": "stream",
     "text": [
      "111.9645459651947\n"
     ]
    }
   ],
   "source": [
    "#Reading back from the pickle file\n",
    "start =time.time()\n",
    "home_df = pd.read_pickle('./home_df.pkl')\n",
    "stop = time.time()\n",
    "print(stop-start)"
   ]
  },
  {
   "cell_type": "code",
   "execution_count": 10,
   "metadata": {
    "collapsed": false
   },
   "outputs": [
    {
     "name": "stdout",
     "output_type": "stream",
     "text": [
      "(4253926, 9)\n"
     ]
    },
    {
     "data": {
      "text/plain": [
       "reviewerID         object\n",
       "asin               object\n",
       "reviewerName       object\n",
       "helpful            object\n",
       "reviewText         object\n",
       "overall           float64\n",
       "summary            object\n",
       "unixReviewTime      int64\n",
       "reviewTime         object\n",
       "dtype: object"
      ]
     },
     "execution_count": 10,
     "metadata": {},
     "output_type": "execute_result"
    }
   ],
   "source": [
    "print(home_df.shape)\n",
    "home_df.dtypes"
   ]
  },
  {
   "cell_type": "code",
   "execution_count": 18,
   "metadata": {
    "collapsed": false
   },
   "outputs": [
    {
     "data": {
      "text/html": [
       "<div>\n",
       "<style>\n",
       "    .dataframe thead tr:only-child th {\n",
       "        text-align: right;\n",
       "    }\n",
       "\n",
       "    .dataframe thead th {\n",
       "        text-align: left;\n",
       "    }\n",
       "\n",
       "    .dataframe tbody tr th {\n",
       "        vertical-align: top;\n",
       "    }\n",
       "</style>\n",
       "<table border=\"1\" class=\"dataframe\">\n",
       "  <thead>\n",
       "    <tr style=\"text-align: right;\">\n",
       "      <th></th>\n",
       "      <th>reviewerID</th>\n",
       "      <th>asin</th>\n",
       "      <th>reviewerName</th>\n",
       "      <th>helpful</th>\n",
       "      <th>reviewText</th>\n",
       "      <th>overall</th>\n",
       "      <th>summary</th>\n",
       "      <th>unixReviewTime</th>\n",
       "      <th>reviewTime</th>\n",
       "    </tr>\n",
       "  </thead>\n",
       "  <tbody>\n",
       "    <tr>\n",
       "      <th>4253921</th>\n",
       "      <td>AF30DHAVSYNZ0</td>\n",
       "      <td>B00LXFP8NK</td>\n",
       "      <td>Sasha DLH</td>\n",
       "      <td>[0, 0]</td>\n",
       "      <td>Another cute set from this company that I must...</td>\n",
       "      <td>5.0</td>\n",
       "      <td>Cute</td>\n",
       "      <td>1405641600</td>\n",
       "      <td>07 18, 2014</td>\n",
       "    </tr>\n",
       "    <tr>\n",
       "      <th>4253922</th>\n",
       "      <td>A34KTJ4VWNBOHI</td>\n",
       "      <td>B00LXFP8NK</td>\n",
       "      <td>Stina</td>\n",
       "      <td>[0, 0]</td>\n",
       "      <td>With a little girl who loves pink, this was th...</td>\n",
       "      <td>5.0</td>\n",
       "      <td>Lovely Set for Girls</td>\n",
       "      <td>1405900800</td>\n",
       "      <td>07 21, 2014</td>\n",
       "    </tr>\n",
       "    <tr>\n",
       "      <th>4253923</th>\n",
       "      <td>A4XPE5UGK51IA</td>\n",
       "      <td>B00LXFP8NK</td>\n",
       "      <td>Tia Scott</td>\n",
       "      <td>[0, 0]</td>\n",
       "      <td>My cousin bought this one for her daughter and...</td>\n",
       "      <td>5.0</td>\n",
       "      <td>Fun Colors &amp; Patterns</td>\n",
       "      <td>1405900800</td>\n",
       "      <td>07 21, 2014</td>\n",
       "    </tr>\n",
       "    <tr>\n",
       "      <th>4253924</th>\n",
       "      <td>A2LUDC2DWHMRDA</td>\n",
       "      <td>B00M0U03EQ</td>\n",
       "      <td>Felicia Rego</td>\n",
       "      <td>[0, 0]</td>\n",
       "      <td>This desk is better then the last two I had in...</td>\n",
       "      <td>5.0</td>\n",
       "      <td>Sturdy and Reliable</td>\n",
       "      <td>1405987200</td>\n",
       "      <td>07 22, 2014</td>\n",
       "    </tr>\n",
       "    <tr>\n",
       "      <th>4253925</th>\n",
       "      <td>ADL558O3IM9DY</td>\n",
       "      <td>B00M0U03EQ</td>\n",
       "      <td>Richard Bourbeau</td>\n",
       "      <td>[0, 0]</td>\n",
       "      <td>I have had this desk for about a month. It is ...</td>\n",
       "      <td>5.0</td>\n",
       "      <td>Small but heavy!</td>\n",
       "      <td>1405987200</td>\n",
       "      <td>07 22, 2014</td>\n",
       "    </tr>\n",
       "  </tbody>\n",
       "</table>\n",
       "</div>"
      ],
      "text/plain": [
       "             reviewerID        asin      reviewerName helpful  \\\n",
       "4253921   AF30DHAVSYNZ0  B00LXFP8NK         Sasha DLH  [0, 0]   \n",
       "4253922  A34KTJ4VWNBOHI  B00LXFP8NK             Stina  [0, 0]   \n",
       "4253923   A4XPE5UGK51IA  B00LXFP8NK         Tia Scott  [0, 0]   \n",
       "4253924  A2LUDC2DWHMRDA  B00M0U03EQ      Felicia Rego  [0, 0]   \n",
       "4253925   ADL558O3IM9DY  B00M0U03EQ  Richard Bourbeau  [0, 0]   \n",
       "\n",
       "                                                reviewText  overall  \\\n",
       "4253921  Another cute set from this company that I must...      5.0   \n",
       "4253922  With a little girl who loves pink, this was th...      5.0   \n",
       "4253923  My cousin bought this one for her daughter and...      5.0   \n",
       "4253924  This desk is better then the last two I had in...      5.0   \n",
       "4253925  I have had this desk for about a month. It is ...      5.0   \n",
       "\n",
       "                       summary  unixReviewTime   reviewTime  \n",
       "4253921                   Cute      1405641600  07 18, 2014  \n",
       "4253922   Lovely Set for Girls      1405900800  07 21, 2014  \n",
       "4253923  Fun Colors & Patterns      1405900800  07 21, 2014  \n",
       "4253924    Sturdy and Reliable      1405987200  07 22, 2014  \n",
       "4253925       Small but heavy!      1405987200  07 22, 2014  "
      ]
     },
     "execution_count": 18,
     "metadata": {},
     "output_type": "execute_result"
    }
   ],
   "source": [
    "home_df.tail()\n",
    "#summary field would be an interesting field to explore. Seems like a user entered field.\n",
    "#another one would be helpful field. This is in list form.\n",
    "#Also see if the length of review text is correlated with more positive or negative review."
   ]
  },
  {
   "cell_type": "code",
   "execution_count": 14,
   "metadata": {
    "collapsed": false
   },
   "outputs": [
    {
     "data": {
      "text/plain": [
       "count    4.253926e+06\n",
       "mean     4.099486e+00\n",
       "std      1.331712e+00\n",
       "min      1.000000e+00\n",
       "25%      4.000000e+00\n",
       "50%      5.000000e+00\n",
       "75%      5.000000e+00\n",
       "max      5.000000e+00\n",
       "Name: overall, dtype: float64"
      ]
     },
     "execution_count": 14,
     "metadata": {},
     "output_type": "execute_result"
    }
   ],
   "source": [
    "home_df.overall.describe()"
   ]
  },
  {
   "cell_type": "code",
   "execution_count": 36,
   "metadata": {
    "collapsed": false
   },
   "outputs": [
    {
     "name": "stdout",
     "output_type": "stream",
     "text": [
      "<class 'pandas.core.frame.DataFrame'>\n",
      "Int64Index: 4253926 entries, 0 to 4253925\n",
      "Data columns (total 10 columns):\n",
      "reviewerID        object\n",
      "asin              object\n",
      "reviewerName      object\n",
      "helpful           object\n",
      "reviewText        object\n",
      "overall           float64\n",
      "summary           object\n",
      "unixReviewTime    int64\n",
      "reviewTime        object\n",
      "polarity          int64\n",
      "dtypes: float64(1), int64(2), object(7)\n",
      "memory usage: 357.0+ MB\n"
     ]
    }
   ],
   "source": [
    "home_df.info()"
   ]
  },
  {
   "cell_type": "code",
   "execution_count": 40,
   "metadata": {
    "collapsed": false
   },
   "outputs": [
    {
     "data": {
      "text/plain": [
       "reviewerID            0\n",
       "asin                  0\n",
       "reviewerName      33202\n",
       "helpful               0\n",
       "reviewText            0\n",
       "overall               0\n",
       "summary               0\n",
       "unixReviewTime        0\n",
       "reviewTime            0\n",
       "polarity              0\n",
       "dtype: int64"
      ]
     },
     "execution_count": 40,
     "metadata": {},
     "output_type": "execute_result"
    }
   ],
   "source": [
    "#checking for null values\n",
    "home_df.isnull().sum()\n",
    "#Only reviewerName has 33202 null values.Since this field is not being used in the analysis we \n",
    "#leave these rows in the dataframe"
   ]
  },
  {
   "cell_type": "code",
   "execution_count": 23,
   "metadata": {
    "collapsed": false
   },
   "outputs": [
    {
     "data": {
      "text/plain": [
       "<matplotlib.text.Text at 0x203bbf9e8>"
      ]
     },
     "execution_count": 23,
     "metadata": {},
     "output_type": "execute_result"
    },
    {
     "data": {
      "image/png": "[encoded data removed]",
      "text/plain": [
       "<matplotlib.figure.Figure at 0x144e28860>"
      ]
     },
     "metadata": {},
     "output_type": "display_data"
    }
   ],
   "source": [
    "\n",
    "home_df['overall'].value_counts().plot(kind='bar')\n",
    "plt.title(\"Home & kitchen products Reviews Ratings distribution\")\n",
    "plt.ylabel(\"Frequency\")"
   ]
  },
  {
   "cell_type": "code",
   "execution_count": null,
   "metadata": {
    "collapsed": true
   },
   "outputs": [],
   "source": [
    "# Convert 5 types ratings into 2 (negative or positive with value 0 and 1 respectively)\n",
    "home_df[\"polarity\"] = np.where(home_df['overall'] > 3, 1, 0)\n",
    "home_df.tail()"
   ]
  },
  {
   "cell_type": "code",
   "execution_count": 24,
   "metadata": {
    "collapsed": false
   },
   "outputs": [
    {
     "data": {
      "text/plain": [
       "<matplotlib.text.Text at 0x18ce75ef0>"
      ]
     },
     "execution_count": 24,
     "metadata": {},
     "output_type": "execute_result"
    },
    {
     "data": {
      "image/png": "[encoded data removed]",
      "text/plain": [
       "<matplotlib.figure.Figure at 0x203bbf080>"
      ]
     },
     "metadata": {},
     "output_type": "display_data"
    }
   ],
   "source": [
    "home_df['polarity'].value_counts().plot(kind='bar')\n",
    "plt.title(\"Home & kitchen products polarity distribution\")\n",
    "plt.ylabel(\"Frequency\")\n",
    "#Still see a haeavy positive skew with only about 25% of the polarity as negative. So this dtaset is highly imbalanced"
   ]
  },
  {
   "cell_type": "code",
   "execution_count": 28,
   "metadata": {
    "collapsed": false
   },
   "outputs": [
    {
     "name": "stdout",
     "output_type": "stream",
     "text": [
      "182.42838525772095\n"
     ]
    }
   ],
   "source": [
    "#Saving the df with polarity field into  pickle file\n",
    "start =time.time()\n",
    "home_df.to_pickle('./home_df.pkl')\n",
    "stop = time.time()\n",
    "print(stop-start)"
   ]
  },
  {
   "cell_type": "code",
   "execution_count": 6,
   "metadata": {
    "collapsed": false
   },
   "outputs": [
    {
     "data": {
      "text/html": [
       "<div>\n",
       "<style>\n",
       "    .dataframe thead tr:only-child th {\n",
       "        text-align: right;\n",
       "    }\n",
       "\n",
       "    .dataframe thead th {\n",
       "        text-align: left;\n",
       "    }\n",
       "\n",
       "    .dataframe tbody tr th {\n",
       "        vertical-align: top;\n",
       "    }\n",
       "</style>\n",
       "<table border=\"1\" class=\"dataframe\">\n",
       "  <thead>\n",
       "    <tr style=\"text-align: right;\">\n",
       "      <th></th>\n",
       "      <th>reviewerID</th>\n",
       "      <th>asin</th>\n",
       "      <th>reviewerName</th>\n",
       "      <th>helpful</th>\n",
       "      <th>reviewText</th>\n",
       "      <th>overall</th>\n",
       "      <th>summary</th>\n",
       "      <th>unixReviewTime</th>\n",
       "      <th>reviewTime</th>\n",
       "      <th>polarity</th>\n",
       "    </tr>\n",
       "  </thead>\n",
       "  <tbody>\n",
       "    <tr>\n",
       "      <th>995</th>\n",
       "      <td>A1Q2OH58I3LNZI</td>\n",
       "      <td>1574890832</td>\n",
       "      <td>S. Camburides</td>\n",
       "      <td>[0, 0]</td>\n",
       "      <td>I really enjoy Cavallini products and the imag...</td>\n",
       "      <td>1.0</td>\n",
       "      <td>Beautiful designs, very weak magnets</td>\n",
       "      <td>1396137600</td>\n",
       "      <td>03 30, 2014</td>\n",
       "      <td>0</td>\n",
       "    </tr>\n",
       "    <tr>\n",
       "      <th>996</th>\n",
       "      <td>A383UPUHY7V0V1</td>\n",
       "      <td>1574891898</td>\n",
       "      <td>Art</td>\n",
       "      <td>[2, 3]</td>\n",
       "      <td>I have seen this same image for much more on p...</td>\n",
       "      <td>5.0</td>\n",
       "      <td>Great poster substitute</td>\n",
       "      <td>1370304000</td>\n",
       "      <td>06 4, 2013</td>\n",
       "      <td>1</td>\n",
       "    </tr>\n",
       "    <tr>\n",
       "      <th>997</th>\n",
       "      <td>A3MXHFXM8751RG</td>\n",
       "      <td>1574891898</td>\n",
       "      <td>Graham McHardy</td>\n",
       "      <td>[0, 0]</td>\n",
       "      <td>Just what I needed as an unusual and appropria...</td>\n",
       "      <td>5.0</td>\n",
       "      <td>Perfect as a small gift for a Francophile</td>\n",
       "      <td>1357776000</td>\n",
       "      <td>01 10, 2013</td>\n",
       "      <td>1</td>\n",
       "    </tr>\n",
       "    <tr>\n",
       "      <th>998</th>\n",
       "      <td>A37DCA81R345BY</td>\n",
       "      <td>1574891898</td>\n",
       "      <td>Hoshikimi</td>\n",
       "      <td>[2, 2]</td>\n",
       "      <td>Originally saw this on urban outfitters for 5 ...</td>\n",
       "      <td>5.0</td>\n",
       "      <td>Sooo cool</td>\n",
       "      <td>1336694400</td>\n",
       "      <td>05 11, 2012</td>\n",
       "      <td>1</td>\n",
       "    </tr>\n",
       "    <tr>\n",
       "      <th>999</th>\n",
       "      <td>A1AJ7KD5QKX8TS</td>\n",
       "      <td>1574891898</td>\n",
       "      <td>JT</td>\n",
       "      <td>[1, 2]</td>\n",
       "      <td>Love the colors, the paper stock, and the beau...</td>\n",
       "      <td>5.0</td>\n",
       "      <td>Just what I was hoping for!</td>\n",
       "      <td>1287360000</td>\n",
       "      <td>10 18, 2010</td>\n",
       "      <td>1</td>\n",
       "    </tr>\n",
       "  </tbody>\n",
       "</table>\n",
       "</div>"
      ],
      "text/plain": [
       "         reviewerID        asin    reviewerName helpful  \\\n",
       "995  A1Q2OH58I3LNZI  1574890832   S. Camburides  [0, 0]   \n",
       "996  A383UPUHY7V0V1  1574891898             Art  [2, 3]   \n",
       "997  A3MXHFXM8751RG  1574891898  Graham McHardy  [0, 0]   \n",
       "998  A37DCA81R345BY  1574891898       Hoshikimi  [2, 2]   \n",
       "999  A1AJ7KD5QKX8TS  1574891898              JT  [1, 2]   \n",
       "\n",
       "                                            reviewText  overall  \\\n",
       "995  I really enjoy Cavallini products and the imag...      1.0   \n",
       "996  I have seen this same image for much more on p...      5.0   \n",
       "997  Just what I needed as an unusual and appropria...      5.0   \n",
       "998  Originally saw this on urban outfitters for 5 ...      5.0   \n",
       "999  Love the colors, the paper stock, and the beau...      5.0   \n",
       "\n",
       "                                       summary  unixReviewTime   reviewTime  \\\n",
       "995       Beautiful designs, very weak magnets      1396137600  03 30, 2014   \n",
       "996                    Great poster substitute      1370304000   06 4, 2013   \n",
       "997  Perfect as a small gift for a Francophile      1357776000  01 10, 2013   \n",
       "998                                  Sooo cool      1336694400  05 11, 2012   \n",
       "999                Just what I was hoping for!      1287360000  10 18, 2010   \n",
       "\n",
       "     polarity  \n",
       "995         0  \n",
       "996         1  \n",
       "997         1  \n",
       "998         1  \n",
       "999         1  "
      ]
     },
     "execution_count": 6,
     "metadata": {},
     "output_type": "execute_result"
    }
   ],
   "source": [
    "#working with a small subset of data\n",
    "working_df = home_df[0:1000]\n",
    "working_df.tail()\n"
   ]
  },
  {
   "cell_type": "code",
   "execution_count": null,
   "metadata": {
    "collapsed": true
   },
   "outputs": [],
   "source": []
  },
  {
   "cell_type": "code",
   "execution_count": 7,
   "metadata": {
    "collapsed": false
   },
   "outputs": [],
   "source": [
    "#Subset the data into training and test\n",
    "X_train, X_test, y_train, y_test = train_test_split(working_df['reviewText'], \n",
    "                                                    #working_df['overall'],\n",
    "                                                    working_df['polarity'],\n",
    "                                                    test_size=.2, random_state=1)"
   ]
  },
  {
   "cell_type": "code",
   "execution_count": 37,
   "metadata": {
    "collapsed": false
   },
   "outputs": [
    {
     "name": "stdout",
     "output_type": "stream",
     "text": [
      "number words in training corpus: 4270\n",
      "382    I'm new to cake decorating and I love this boo...\n",
      "994    Great magnets! They are good quality and look ...\n",
      "982    GREAT. IT SURE HELPS A LOT, I DON'T KNOW WHAT ...\n",
      "47     Im an intermediate cake decorator. I bought th...\n",
      "Name: reviewText, dtype: object\n"
     ]
    }
   ],
   "source": [
    "# instantiate the vectorizer\n",
    "\n",
    "vect = CountVectorizer()\n",
    "\n",
    "# tokenize train and test text data\n",
    "X_train_features = vect.fit_transform(X_train)\n",
    "print(\"number words in training corpus:\", len(vect.get_feature_names()))\n",
    "X_test_features = vect.transform(X_test)\n",
    "print(X_train[0:4])"
   ]
  },
  {
   "cell_type": "code",
   "execution_count": 32,
   "metadata": {
    "collapsed": false
   },
   "outputs": [
    {
     "name": "stdout",
     "output_type": "stream",
     "text": [
      "  (0, 2613)\t1\n",
      "  (0, 2634)\t1\n",
      "  (0, 3405)\t1\n",
      "  (0, 83)\t1\n",
      "  (0, 3779)\t1\n",
      "  (0, 2693)\t1\n",
      "  (0, 4187)\t1\n",
      "  (0, 1285)\t1\n",
      "  (0, 4201)\t1\n",
      "  (0, 4141)\t1\n",
      "  (0, 2188)\t1\n",
      "  (0, 1282)\t1\n",
      "  (0, 2335)\t1\n",
      "  (0, 1907)\t1\n",
      "  (0, 3694)\t1\n",
      "  (0, 1802)\t1\n",
      "  (0, 2132)\t3\n"
     ]
    }
   ],
   "source": [
    "print(X_train_features[2])"
   ]
  },
  {
   "cell_type": "code",
   "execution_count": 27,
   "metadata": {
    "collapsed": false
   },
   "outputs": [
    {
     "name": "stdout",
     "output_type": "stream",
     "text": [
      "train (4270,)\n",
      "pos  2653 word_frequency 291 on\n",
      "pos  284 word_frequency 291 as\n",
      "pos  1877 word_frequency 303 have\n",
      "pos  577 word_frequency 314 but\n",
      "pos  267 word_frequency 323 are\n",
      "pos  4187 word_frequency 329 with\n",
      "pos  4096 word_frequency 334 was\n",
      "pos  3778 word_frequency 369 that\n",
      "pos  2545 word_frequency 374 my\n",
      "pos  4257 word_frequency 381 you\n",
      "pos  2031 word_frequency 455 in\n",
      "pos  469 word_frequency 645 book\n",
      "pos  2633 word_frequency 671 of\n",
      "pos  2126 word_frequency 692 is\n",
      "pos  1645 word_frequency 779 for\n",
      "pos  3807 word_frequency 828 this\n",
      "pos  3857 word_frequency 1148 to\n",
      "pos  2132 word_frequency 1157 it\n",
      "pos  209 word_frequency 1257 and\n",
      "pos  3780 word_frequency 1834 the\n"
     ]
    }
   ],
   "source": [
    "#Top 20 occuring words in the reviewtext field in the dataset\n",
    "\n",
    "word_frequency = np.asarray(X_train_features.sum(axis=0)).ravel()\n",
    "print('train', word_frequency.shape)\n",
    "#use argsort to get the index and then get the words with top 20 frequency.\n",
    "\n",
    "for n in range(-20, 0):\n",
    "    pos = word_frequency.argsort()[n]\n",
    "    print('pos ', pos,'word_frequency', word_frequency[pos], vect.get_feature_names()[pos])\n",
    "    \n",
    "#We see that the top words are common prepositions etc)    "
   ]
  },
  {
   "cell_type": "code",
   "execution_count": 21,
   "metadata": {
    "collapsed": false
   },
   "outputs": [
    {
     "name": "stderr",
     "output_type": "stream",
     "text": [
      "/Users/anamika/anaconda/lib/python3.6/site-packages/sklearn/feature_extraction/text.py:1089: FutureWarning: Conversion of the second argument of issubdtype from `float` to `np.floating` is deprecated. In future, it will be treated as `np.float64 == np.dtype(float).type`.\n",
      "  if hasattr(X, 'dtype') and np.issubdtype(X.dtype, np.float):\n"
     ]
    }
   ],
   "source": [
    "# We use the tfid to give weigthage to words occuring more frequently. At the same time, to get \n",
    "#rid of prepositions which are not helping with context, we use stop words.\n",
    "tfidf_vect = TfidfVectorizer(min_df=5, max_df=0.8, stop_words='english')\n",
    "tfidf_train_1 = tfidf_vect.fit_transform(X_train)\n",
    "tfidf_test_1 = tfidf_vect.transform(X_test)"
   ]
  },
  {
   "cell_type": "code",
   "execution_count": 22,
   "metadata": {
    "collapsed": false
   },
   "outputs": [
    {
     "name": "stdout",
     "output_type": "stream",
     "text": [
      "train (676,)\n",
      "pos  239 word_frequency 13.535612479590249 gift\n",
      "pos  308 word_frequency 13.874662126405356 instructions\n",
      "pos  463 word_frequency 13.905432440014547 product\n",
      "pos  553 word_frequency 13.908141869013665 spelling\n",
      "pos  654 word_frequency 14.646462781618956 wilton\n",
      "pos  364 word_frequency 15.286792860192815 make\n",
      "pos  72 word_frequency 15.745477161586983 cakes\n",
      "pos  58 word_frequency 17.459173904465263 bought\n",
      "pos  290 word_frequency 18.094065176895395 ideas\n",
      "pos  480 word_frequency 19.500607711879496 really\n",
      "pos  178 word_frequency 19.591919753772206 easy\n",
      "pos  358 word_frequency 21.035591410376274 love\n",
      "pos  342 word_frequency 21.757698355711774 like\n",
      "pos  318 word_frequency 22.053427437692026 just\n",
      "pos  147 word_frequency 22.602648466185407 decorating\n",
      "pos  626 word_frequency 22.670453373127444 use\n",
      "pos  249 word_frequency 26.2576721060193 good\n",
      "pos  71 word_frequency 27.203512024070754 cake\n",
      "pos  254 word_frequency 30.47020262162768 great\n",
      "pos  55 word_frequency 59.417428309165665 book\n"
     ]
    }
   ],
   "source": [
    "word_frequency = np.asarray(tfidf_train_1.sum(axis=0)).ravel()\n",
    "print('train', word_frequency.shape)\n",
    "#use argsort to get the index and then get the words with top 20 frequency.\n",
    "\n",
    "for n in range(-20, 0):\n",
    "    pos = word_frequency.argsort()[n]\n",
    "    print('pos ', pos,'word_frequency', word_frequency[pos], tfidf_vect.get_feature_names()[pos])"
   ]
  },
  {
   "cell_type": "code",
   "execution_count": 40,
   "metadata": {
    "collapsed": false
   },
   "outputs": [
    {
     "name": "stdout",
     "output_type": "stream",
     "text": [
      "             precision    recall  f1-score   support\n",
      "\n",
      " polarity 0       0.00      0.00      0.00        39\n",
      " polarity 1       0.81      1.00      0.89       161\n",
      "\n",
      "avg / total       0.65      0.81      0.72       200\n",
      "\n",
      "0.19898319244384766\n"
     ]
    },
    {
     "name": "stderr",
     "output_type": "stream",
     "text": [
      "/Users/anamika/anaconda/lib/python3.6/site-packages/sklearn/metrics/classification.py:1135: UndefinedMetricWarning: Precision and F-score are ill-defined and being set to 0.0 in labels with no predicted samples.\n",
      "  'precision', 'predicted', average, warn_for)\n"
     ]
    }
   ],
   "source": [
    "# instantiate and train model, kernel=rbf \n",
    "\n",
    "svm_model = svm.SVC(kernel='rbf')\n",
    "start =time.time()\n",
    "\n",
    "svm_model.fit(tfidf_train_1, y_train)\n",
    "\n",
    "# evaulate model\n",
    "y_pred_1 = svm_model.predict(tfidf_test_1)\n",
    "\n",
    "target_names = ['polarity 0', 'polarity 1']\n",
    "print(classification_report(y_test, y_pred_1, target_names=target_names))\n",
    "stop = time.time()\n",
    "print(stop-start)\n",
    "\n",
    "#Does not look like the negative class is correct. Is it because of highly unbalanced negative class.\n",
    "#Lookup http://scikit-learn.org/stable/modules/svm.html#unbalanced-problems"
   ]
  },
  {
   "cell_type": "code",
   "execution_count": 19,
   "metadata": {
    "collapsed": false
   },
   "outputs": [],
   "source": [
    "\n",
    "from nltk.tokenize.treebank import TreebankWordTokenizer\n",
    "tokenizer = TreebankWordTokenizer()\n",
    "x_tokens = tokenizer.tokenize(X_train)\n",
    "x_tokens="
   ]
  }
 ],
 "metadata": {
  "kernelspec": {
   "display_name": "Python 3",
   "language": "python",
   "name": "python3"
  },
  "language_info": {
   "codemirror_mode": {
    "name": "ipython",
    "version": 3
   },
   "file_extension": ".py",
   "mimetype": "text/x-python",
   "name": "python",
   "nbconvert_exporter": "python",
   "pygments_lexer": "ipython3",
   "version": "3.6.0"
  }
 },
 "nbformat": 4,
 "nbformat_minor": 2
}
